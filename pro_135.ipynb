{
  "cells": [
    {
      "cell_type": "markdown",
      "metadata": {
        "id": "view-in-github",
        "colab_type": "text"
      },
      "source": [
        "<a href=\"https://colab.research.google.com/github/Gunika622/50/blob/main/pro_135.ipynb\" target=\"_parent\"><img src=\"https://colab.research.google.com/assets/colab-badge.svg\" alt=\"Open In Colab\"/></a>"
      ]
    },
    {
      "cell_type": "code",
      "execution_count": 10,
      "metadata": {
        "id": "nnzI4bkQTUHV",
        "outputId": "015d9d39-1a7b-48a6-84d1-8423bc315bbb",
        "colab": {
          "resources": {
            "http://localhost:8080/nbextensions/google.colab/files.js": {
              "data": "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",
              "ok": true,
              "headers": [
                [
                  "content-type",
                  "application/javascript"
                ]
              ],
              "status": 200,
              "status_text": ""
            }
          },
          "base_uri": "https://localhost:8080/",
          "height": 1000
        }
      },
      "outputs": [
        {
          "output_type": "display_data",
          "data": {
            "text/plain": [
              "<IPython.core.display.HTML object>"
            ],
            "text/html": [
              "\n",
              "     <input type=\"file\" id=\"files-ab0da72b-6961-4169-bb13-d18d0e4c7f36\" name=\"files[]\" multiple disabled\n",
              "        style=\"border:none\" />\n",
              "     <output id=\"result-ab0da72b-6961-4169-bb13-d18d0e4c7f36\">\n",
              "      Upload widget is only available when the cell has been executed in the\n",
              "      current browser session. Please rerun this cell to enable.\n",
              "      </output>\n",
              "      <script src=\"/nbextensions/google.colab/files.js\"></script> "
            ]
          },
          "metadata": {}
        },
        {
          "output_type": "stream",
          "name": "stdout",
          "text": [
            "Saving star_with_gravity.csv to star_with_gravity (1).csv\n"
          ]
        },
        {
          "output_type": "execute_result",
          "data": {
            "text/plain": [
              "{'star_with_gravity.csv': b\",Star_name,Distance,Mass,Radius,Gravity\\r\\n0,Sun,1.5813e-05,1.0,1.0,274.2691614595739\\r\\n1,Sirius,8.6,2.1,1.71,196.971799550325\\r\\n2,Canopus,310.0,15.0,71.0,0.8161153386021839\\r\\n3,Alpha Centauri,4.4,1.1,1.2,209.51116500384123\\r\\n4,Arcturus,37.0,1.1,26.0,0.44629597278924754\\r\\n5,Vega,25.0,2.2,2.7,82.76984296448046\\r\\n6,Capella,43.0,2.6,12.0,4.952082081908975\\r\\n7,Rigel,860.0,23.0,78.9,1.01332978543217\\r\\n8,Procyon,11.4,1.5,1.9,113.9622554541166\\r\\n9,Betelgeuse,640.0,20.0,950.0,0.006077986957552885\\r\\n10,Achernar,144.0,6.7,9.3,21.2464259657665\\r\\n11,Hadar,390.0,10.5,8.6,38.937617567949246\\r\\n12,Altair,17.0,1.8,1.8,152.37175636642996\\r\\n13,Acrux,320.0,18.0,8.9,62.326030883377484\\r\\n14,Aldebaran,65.0,1.5,44.0,0.21250193294905007\\r\\n15,Antares,600.0,12.0,680.0,0.0071177118025840995\\r\\n16,Spica,260.0,11.43,7.47,56.18003500809\\r\\n17,Pollux,34.0,1.9,8.8,6.729227876719916\\r\\n18,Fomalhaut,25.0,1.9,1.8,160.8368539423427\\r\\n19,Deneb,2600.0,19.0,203.0,0.12645572733460908\\r\\n20,Mimosa,350.0,16.0,8.4,62.19255361895101\\r\\n21,Regulus,77.0,3.8,3.1,108.45190567600218\\r\\n22,Adhara,430.0,12.5,14.0,17.491655705329972\\r\\n23,Shaula,700.0,14.5,8.8,51.354633796020416\\r\\n24,Castor,52.0,2.8,2.4,133.3252868206262\\r\\n25,Gacrux,88.0,1.5,84.0,0.058305519017766566\\r\\n26,Bellatrix,240.0,8.6,5.8,70.11637302474244\\r\\n27,Elnath,130.0,5.0,4.2,77.74069202368877\\r\\n28,Miaplacidus,110.0,3.5,6.8,20.759992757536956\\r\\n29,Alnilam,2000.0,32.0,42.0,4.975404289516081\\r\\n30,Gamma Velorum,1100.0,9.0,6.0,68.56729036489348\\r\\n31,Alnair,101.0,4.0,3.4,94.90282403445465\\r\\n32,Alioth,81.0,2.9,4.2,45.08960137373948\\r\\n33,Alnitak,1050.0,33.0,20.0,22.62720582041485\\r\\n34,Dubhe,120.0,4.25,30.0,1.2951599291146547\\r\\n35,Mirfak,590.0,8.5,68.0,0.5041712526830403\\r\\n36,Wezen,1600.0,17.0,200.0,0.11656439362031894\\r\\n37,Sargas,270.0,5.7,26.0,2.3126245862715553\\r\\n38,Kaus Australis,140.0,3.5,6.8,20.759992757536956\\r\\n39,Avior,630.0,9.0,130.0,0.14606050018557193\\r\\n40,Alkaid,104.0,6.1,3.4,144.72680665254333\\r\\n41,Menkalinan,81.0,2.39,2.77,85.43097080483021\\r\\n42,Atria,390.0,7.0,92.0,0.22682941046987445\\r\\n43,Alhena,109.0,2.8,3.3,70.51915997124031\\r\\n44,Peacock,180.0,5.9,4.8,70.23385645015132\\r\\n45,Alsephina[2],80.0,2.4,2.9,78.26943965552645\\r\\n46,Mirzam,500.0,13.5,10.0,37.02633679704249\\r\\n47,Polaris,430.0,5.4,39.0,0.973736667903813\\r\\n48,Alphard,180.0,3.0,50.0,0.32912299375148873\\r\\n49,Scheat,196.0,2.1,95.0,0.0638188630543053\\r\\n50,Almaaz,653.0,15.0,140.0,0.20989986846395964\\r\\n51,Rasalgethi,360.0,2.8,280.0,0.009795327194984781\\r\\n52,Tau Ceti,11.9,0.7829999999999999,0.893,269.2996711047934\\r\\n53,Delta Pavonis,19.92,0.991,1.22,182.61269753187165\\r\\n54,Ran,10.48,0.82,0.74,410.70254272616984\\r\\n55,V382 Carinae,8900.0,20.0,485.0,0.023319728894426524\\r\\n56,Eta Carinae,7500.0,100.0,881.0,0.035336632665075154\\r\\n57,Delta Cephei,887.0,4.5,44.5,0.6232603088337749\\r\\n58,Mu Cephei,6000.0,19.2,972.0,0.005573726798954914\\r\\n59,Titawin,44.25,1.27,1.48,159.02202111653529\\r\\n60,Rho Cassiopeiae,8154.0,22.0,800.0,0.009428002425172855\\r\\n61,P Cygni,5545.0,30.0,76.0,1.4245281931764575\\r\\n62,VV Cephei,4900.0,18.2,750.0,0.008874131090780881\\r\\n63,61 Cygni,11.41,0.7,0.665,434.1419255394917\\r\\n64,R Doradus,178.0,0.8,298.0,0.00247078204999391\\r\\n65,Polaris Australis,281.0,1.59,3.74,31.176754176608036\\r\\n66,R Coronae Borealis,4566.0,0.85,85.0,0.032266960171714584\\r\\n67,54 Piscium,36.1,0.76,0.94,235.9037604224493\\r\\n68,Mira,300.0,1.2,370.0,0.00240411244522636\\r\\n69,RW Cephei,14000.0,13.9,1158.0,0.0028429856016179986\\r\\n70,Lacaille 8760,12.87,0.6,0.51,632.685493563031\\r\\n71,V838 Monocerotis,19896.0,0.5,450.0,0.0006772078060730221\\r\\n72,HD 140283,190.0,2.0,1.4,279.8664912852796\\r\\n73,II Pegasi,130.0,0.8,3.4,18.98056480689093\\r\\n74,VY Canis Majoris,3900.0,17.0,1420.0,0.0023123267927061875\\r\\n75,Pistol Star,25000.0,100.0,320.0,0.2678409779878652\\r\\n76,S Doradus,169000.0,24.0,380.0,0.04558490218164664\\r\\n77,UY Scuti,5100.0,7.0,755.0,0.0033680700499399458\\r\\n78,Barnard's Star,5.98,0.14,0.2,959.9420651085089\\r\\n79,Luhman 16,6.52,0.04,0.02,27426.9161459574\\r\\n80,Proxima Centauri,4.25,0.12,0.15,1462.7688611177277\\r\\n81,KIC 8462852,1470.0,1.43,1.58,157.10819615734286\\r\\n82,R136a1,163000.0,290.0,32.0,77.67388361648091\\r\\n83,Melnick 42,163000.0,189.0,21.1,116.4324060911917\\r\\n84,WR 102,18134.0,19.0,0.39,34261.104981800825\\r\\n85,VFTS 352,164000.0,57.48,14.47,75.29335961731135\\r\\n86,YBP 1194,2772.0,1.01,0.99,282.6363157577489\\r\\n87,Gliese 1214,47.5,0.16,0.21,995.0808579032163\\r\\n88,NML Cygni,5251.0,50.0,1900.0,0.0037987418484705534\\r\\n89,VB 10,18.72,0.075,0.1,2057.0187109468043\\r\\n90,WOH G64,163000.0,20.0,1600.0,0.0021427278239029217\\r\\n91,TRAPPIST-1,39.6,0.08900000000000001,0.12,1695.1357895765336\\r\\n92,2MASS J0523-1403,40.3,0.07,0.086,2595.841171196618\\r\\n93,WISE 0855\\xe2\\x88\\x920714,7.27,0.003,0.086,111.25033590842646\\r\\n94,Icarus,14400000000.0,33.0,0.2,226272.05820414852\\r\\n95,SDSS J000013.54+255418.6\\xc2\\xa0[de],46.1,0.04582022400000001,0.10173537,1214.200056936461\\r\\n96,2MASS J00040288-6410358,192.0,0.018137172,0.16750369,177.29553270309606\\r\\n97,2MASS J00242463-0158201,37.7,0.075412452,0.11201167,1648.5172507306947\\r\\n98,2MASS J00274197+0503417,236.0,0.029592227999999998,0.14797872,370.64326282297077\\r\\n99,2MASSW J0030300-145033,87.2,0.051547752,0.10070774,1393.9943359838123\\r\\n100,2MASS J00332386-1521309\\xc2\\xa0[de],131.0,0.027683052000000003,0.14695109,351.5971318717637\\r\\n101,2MASS J00345157+0523050,31.0,0.040092696000000004,0.09659722,1178.4549471797168\\r\\n102,2MASS 0036+1821,28.6,0.040092696000000004,0.09659722,1178.4549471797168\\r\\n103,2MASSW J0045214+163445,57.0,0.021955524,0.16647606,217.2787267524544\\r\\n104,WISEP J004701.06+680352.1\\xc2\\xa0[fr],40.0,0.011455056000000002,0.1335919,176.04104671648304\\r\\n105,2MASS J00501994-3322402\\xc2\\xa0[de],34.0,0.03818352,0.09659722,1122.3380449330632\\r\\n106,2MASS J00584253-0651239\\xc2\\xa0[de],96.0,0.027683052000000003,0.14695109,351.5971318717637\\r\\n107,2MASSI J0103320+193536,70.0,0.049638576,0.10070774,1342.3649161325598\\r\\n108,SDSSp J010752.33+004156.1\\xc2\\xa0[de],51.0,0.049638576,0.10070774,1342.3649161325598\\r\\n109,2MASSI J0117474-340325\\xc2\\xa0[de],163.0,0.01909176,0.16647606,188.93802326300383\\r\\n110,2MASS J01415823-4633574\\xc2\\xa0[de],130.0,0.01909176,0.16544843,191.292368446984\\r\\n111,SDSS J015141.69+124429.6,70.0,0.04486563599999999,0.09968011,1238.4366334263516\\r\\n112,SDSS J020742.48+000056.2\\xc2\\xa0[de],111.0,0.04486563599999999,0.09968011,1238.4366334263516\\r\\n113,2MASS J02103857-3015313,101.0,0.01431882,0.15722739,158.86484308965376\\r\\n114,2MASS J02340093-6442068,155.0,0.01909176,0.16647606,188.93802326300383\\r\\n115,2MASS J02411151-0326587\\xc2\\xa0[de],152.0,0.025773876,0.14489583,336.7014134799189\\r\\n116,2MASS J02431371\\xe2\\x88\\x922453298,35.0,0.031501404,0.10173537,834.7625391438166\\r\\n117,LP 771-21,53.0,0.074457864,0.11098404,1657.9311541328584\\r\\n118,Teegarden's star,12.578,0.07636704,0.13050901,1229.7078510792417\\r\\n119,2MASS J02535980+3206373,184.0,0.06204822,0.1952497,446.40140770557866\\r\\n120,WISE J0254+0223,24.0,0.06204822,0.1952497,446.40140770557866\\r\\n121,DEN 0255-4700,16.2,0.07636704,0.09968011,2107.9772483852794\\r\\n122,2MASS J03185403-3421292\\xc2\\xa0[de],45.0,0.046774812,0.09968011,1291.1360646359838\\r\\n123,2MASS J03205965+1854233,47.0,0.084003744,0.11817745,1649.7053854867902\\r\\n124,2MASS J03231002-4631237,192.0,0.021955524,0.17058658,206.93362261908166\\r\\n125,SDSS J032553.17+042540.1,59.0,0.04295646,0.09762485,1236.1885136462176\\r\\n126,2MASS J03264225-2102057\\xc2\\xa0[de],80.0,0.017182584,0.1335919,264.0615700747245\\r\\n127,2MASS J03284265+2302051\\xc2\\xa0[de],98.0,0.051547752,0.10070774,1393.9943359838123\\r\\n128,2MASS J03341218-4953322,27.0,0.06968492400000001,0.10687352,1673.3068242582378\\r\\n129,LP 944-20,20.9,0.06968492400000001,0.14695109,885.0548491944395\\r\\n130,2MASP J0345432+254023,88.0,0.070639512,0.10790115,1664.073567827919\\r\\n131,Teide 1,380.0,0.05250234,0.38844414,95.43298113794582\\r\\n132,2MASS J03510004-0052452,48.0,0.097367976,0.13050901,1567.8775101260333\\r\\n133,2MASS J03552337+1133437,29.8,0.01909176,0.13564716,284.5781383444831\\r\\n134,2MASS J04151954\\xe2\\x88\\x920935066,18.6,0.02863764,0.09762485,824.1256757641451\\r\\n135,2MASS J04285096-2253227\\xc2\\xa0[de],85.0,0.07636704,0.11201167,1669.384557701969\\r\\n136,2MASS J04351612-1606574,34.0,0.09545880000000001,0.12948138,1561.6306004391138\\r\\n137,2MASS J04362788-4114465,142.0,0.037228932,0.20244311,249.14464404913377\\r\\n138,2MASS J04390101-2353083\\xc2\\xa0[de],29.5,0.04582022400000001,0.09968011,1264.786349031168\\r\\n139,2MASS J04433764+0002040,82.0,0.021000936,0.18291814,172.14803783504922\\r\\n140,2MASS J04455387-3048204\\xc2\\xa0[de],42.0,0.061093632,0.102763,1586.7166344045677\\r\\n141,2MASS J04510093-3402150\\xc2\\xa0[de],69.0,0.000992772,7.398936,0.004973795867202517\\r\\n142,2MASS J05002100+0330501\\xc2\\xa0[de],44.0,0.061093632,0.102763,1586.7166344045677\\r\\n143,2MASS J05012406-0010452\\xc2\\xa0[de],64.0,0.020046348000000002,0.14181294,273.3886765721481\\r\\n144,2MASS J05160945-0445499\\xc2\\xa0[de],73.0,0.04486563599999999,0.09968011,1238.4366334263516\\r\\n145,2MASS J0523\\xe2\\x88\\x921403,40.0,0.064911984,0.10379063,1652.6678012497337\\r\\n146,SDSS J053951.99-005902.0,41.62,0.058229868,0.10379063,1482.5402334740254\\r\\n147,LSR 0602+3910\\xc2\\xa0[de],34.6,0.026728464,0.14489583,349.1718362013974\\r\\n148,2MASS J06085283-2753583,102.0,0.036274344,0.15517213,413.1893345369554\\r\\n149,2MASS J06244595-4521548\\xc2\\xa0[de],39.0,0.053456928,0.10173537,1416.5667330925376\\r\\n150,2MASS J06411840-4322329\\xc2\\xa0[de],65.0,0.063957396,0.10379063,1628.363862996061\\r\\n151,DENIS-P J0652197-253450\\xc2\\xa0[de],51.0,0.07159410000000001,0.10790115,1686.5610484742424\\r\\n152,2MASS J07075327-4900503,60.0,0.068730336,0.10584589,1682.5866846122526\\r\\n153,UGPS J072227.51-054031.2,13.4,0.024819288,0.10070774,671.1824580662799\\r\\n154,2MASSI J0727182+171001\\xc2\\xa0[de],29.6,0.039138108,0.09659722,1150.3964960563899\\r\\n155,2MASS J07290002-3954043\\xc2\\xa0[de],25.8,0.035319756,0.09659722,1038.1626915630836\\r\\n156,SDSS J074201.41+205520.5\\xc2\\xa0[de],49.0,0.041047283999999996,0.09659722,1206.513398303043\\r\\n157,DENIS-P J0751164-253043\\xc2\\xa0[de],55.0,0.067775748,0.10584589,1659.2174251037488\\r\\n158,2MASS J07522390+1612157,60.0,0.001918722,6.987884,0.010776994467105179\\r\\n159,DENIS J081730.0-615520,16.1,0.042001872,0.09659722,1234.5718494263697\\r\\n160,2MASS J08251968+2115521\\xc2\\xa0[de],35.0,0.049638576,0.10070774,1342.3649161325598\\r\\n161,SDSSp J083008.12+482847.4\\xc2\\xa0[de],43.0,0.04582022400000001,0.10173537,1214.200056936461\\r\\n162,LHS 2021,55.0,0.084003744,0.11817745,1649.7053854867902\\r\\n163,SDSS J083048.80+012831.1\\xc2\\xa0[de],77.0,0.043911048,0.09865248,1237.4702484573381\\r\\n164,2MASSI J0835425-081923\\xc2\\xa0[de],23.53,0.059184455999999996,0.102763,1537.131739579425\\r\\n165,2MASSI J0847287-153237\\xc2\\xa0[de],43.0,0.061093632,0.102763,1586.7166344045677\\r\\n166,2MASS J08533619-0329321,27.6,0.07350327599999999,0.10995641,1667.410647888894\\r\\n167,2MASSI J0859254-194926\\xc2\\xa0[de],50.0,0.047729400000000005,0.10070774,1290.7354962813079\\r\\n168,2MASSI J0937347+293142,20.0,0.040092696000000004,0.09659722,1178.4549471797168\\r\\n169,2MASS 0939\\xe2\\x88\\x922448,17.4,0.030546816,0.09762485,879.0673874817548\\r\\n170,2MASS J09490860-1545485\\xc2\\xa0[de],59.0,0.046774812,0.09865248,1318.174829878469\\r\\n171,2MASS J10073369-4555147,46.0,0.042001872,0.09659722,1234.5718494263697\\r\\n172,2MASSI J1010148-040649\\xc2\\xa0[de],55.0,0.048683988,0.10070774,1316.5502062069338\\r\\n173,2MASS J10224821+5825453\\xc2\\xa0[de],60.0,0.025773876,0.14489583,336.7014134799189\\r\\n174,2MASSW J1036530-344138\\xc2\\xa0[de],53.0,0.046774812,0.09968011,1291.1360646359838\\r\\n175,2MASS J1047538+212423\\xc2\\xa0[de],34.4,0.040092696000000004,0.09659722,1178.4549471797168\\r\\n176,DEN 1048-3956,13.15,0.07350327599999999,0.10995641,1667.410647888894\\r\\n177,Luhman 16B,6.516,0.041047283999999996,0.10481826,1024.6782379282668\\r\\n178,Luhman 16A,6.516,0.03818352,0.10379063,972.157530146902\\r\\n179,DENIS-P J1058.7\\xe2\\x88\\x921548,49.0,0.061093632,0.102763,1586.7166344045677\\r\\n180,TWA 28,180.0,0.034365168,0.24560357,156.25218516002334\\r\\n181,Cha 110913-773444,163.0,0.007636704,0.1849734,61.21591953721324\\r\\n182,SDSS J111010.01+011613.1,63.0,0.008591292,0.12742612,145.11708292998327\\r\\n183,2MASS J11145133\\xe2\\x88\\x922618235,18.2,0.031501404,0.09865248,887.7503956324381\\r\\n184,TWA 26,137.0,0.02863764,0.2260786,153.6721947060209\\r\\n185,2MASS J11544223-3400390\\xc2\\xa0[de],129.0,0.035319756,0.1541445,407.6980241178403\\r\\n186,2MASSW J1155395-372735\\xc2\\xa0[de],31.0,0.061093632,0.102763,1586.7166344045677\\r\\n187,2MASS J12074836-3900043,217.0,0.016227996,0.17572473,144.1372066665686\\r\\n188,2MASSI J1217110-031113\\xc2\\xa0[de],36.0,0.040092696000000004,0.09659722,1178.4549471797168\\r\\n189,2M 1237+6526,45.6,0.039138108,0.09659722,1150.3964960563899\\r\\n190,TWA 29,262.0,0.001909176,2.569075,0.07933583172022834\\r\\n191,SDSSp J125453.90-012247.4\\xc2\\xa0[de],38.0,0.04486563599999999,0.10070774,1213.291366504429\\r\\n192,Kelu-1A,61.0,0.060139044,0.10070774,1626.3267253144477\\r\\n193,Kelu-1B,61.0,0.055366104000000006,0.10070774,1497.253175686317\\r\\n194,2MASS J13204427+0409045,101.0,0.063957396,0.10379063,1628.363862996061\\r\\n195,SDSSp J132629.82-003831.5\\xc2\\xa0[de],65.0,0.048683988,0.09968011,1343.8354958456157\\r\\n196,SDSSp J134646.45-003150.4\\xc2\\xa0[de],48.0,0.042001872,0.09659722,1234.5718494263697\\r\\n197,2MASS J13595510-4034582,51.0,0.060139044,0.102763,1561.9241869919963\\r\\n198,ULAS J141623.94+134836.3,29.7,0.030546816,0.09865248,860.8488684920613\\r\\n199,SDSS J141659.78+500626.4\\xc2\\xa0[de],149.0,0.056320692,0.10173537,1492.4542366510664\\r\\n200,DENIS-P J142527.97-365023.4\\xc2\\xa0[de],38.0,0.020046348000000002,0.13564716,298.8070452617073\\r\\n201,LHS 2924,38.5,0.072548688,0.10892878,1676.9544351685863\\r\\n202,2MASS J14392837+1929150,47.0,0.068730336,0.10584589,1682.5866846122526\\r\\n203,LSPM J1440+1339,72.0,0.087822096,0.12228797,1610.6949805497954\\r\\n204,2MASS J14482563+1031590\\xc2\\xa0[de],47.0,0.056320692,0.10173537,1492.4542366510664\\r\\n205,CFBDSIR 1458+10A,104.0,0.010595927,0.1541445,122.30940954396388\\r\\n206,CFBDSIR 1458+10B,104.0,0.008591292,0.1335919,132.03078503736225\\r\\n207,TVLM 513-46546,35.1,0.07159410000000001,0.10790115,1686.5610484742424\\r\\n208,2MASS 1503+2525,20.7,0.042001872,0.09659722,1234.5718494263697\\r\\n209,CFBDS J150411+102717,71.0,0.042001872,0.09659722,1234.5718494263697\\r\\n210,2MASSW J1506544+132106\\xc2\\xa0[de],46.0,0.065866572,0.10481826,1644.2511259779164\\r\\n211,2MASS 1507\\xe2\\x88\\x921627,23.9,0.05727528,0.10173537,1517.750071170576\\r\\n212,TVLM 868-110639,53.0,0.075412452,0.11098404,1679.1866817499465\\r\\n213,2MASSW J1515008+484742\\xc2\\xa0[de],34.0,0.05441151599999999,0.10173537,1441.862567612047\\r\\n214,2MASSI J1526140+204341\\xc2\\xa0[de],67.0,0.051547752,0.10070774,1393.9943359838123\\r\\n215,DENIS-P J153941.96-052042.4\\xc2\\xa0[de],51.0,0.060139044,0.102763,1561.9241869919963\\r\\n216,2MASS J15462718-3325111\\xc2\\xa0[de],37.0,0.042001872,0.09659722,1234.5718494263697\\r\\n217,2MASSW J1552591+294849\\xc2\\xa0[de],68.0,0.02863764,0.14695109,363.7211709018244\\r\\n218,2MASSW J1555157-095605\\xc2\\xa0[de],44.0,0.067775748,0.10584589,1659.2174251037488\\r\\n219,2MASS J16150413+1340079\\xc2\\xa0[de],48.0,0.040092696000000004,0.09659722,1178.4549471797168\\r\\n220,SDSSp J162414.37+002915.6\\xc2\\xa0[de],36.0,0.041047283999999996,0.09659722,1206.513398303043\\r\\n221,2MASS J16262034+3925190\\xc2\\xa0[de],110.0,0.067775748,0.10584589,1659.2174251037488\\r\\n222,2MASSW J1632291+190441\\xc2\\xa0[de],50.0,0.046774812,0.09968011,1291.1360646359838\\r\\n223,WISEPA J164715.59+563208.2,28.0,0.039138108,0.09659722,1150.3964960563899\\r\\n224,LSPM J1658+7027\\xc2\\xa0[de],60.0,0.06968492400000001,0.10687352,1673.3068242582378\\r\\n225,2MASSI J1726000+153819,114.0,0.022910112000000003,0.1438682,303.58098872536374\\r\\n226,SDSSp J175032.96+175903.9,90.0,0.04486563599999999,0.09968011,1238.4366334263516\\r\\n227,2MASS J18283572-4849046,39.0,0.04295646,0.09762485,1236.1885136462176\\r\\n228,LSR J1835+3259,18.5,0.07350327599999999,0.10995641,1667.410647888894\\r\\n229,2MASSW J1841086+311727,138.0,0.063957396,0.10379063,1628.363862996061\\r\\n230,2MASS J18432213+4040209,46.0,0.09164044800000001,0.12537086,1599.082875306941\\r\\n231,2MASS J20004841-7523070,105.0,0.023864700000000003,0.19319444,175.3653195207912\\r\\n232,SDSS J204749.61-071818.3,65.0,0.043911048,0.09865248,1237.4702484573381\\r\\n233,2MASSI J2057540-025230,47.0,0.06682116,0.10481826,1668.0808524413649\\r\\n234,2MASSI J2104149-103736,62.0,0.065866572,0.10481826,1644.2511259779164\\r\\n235,PSO J318.5\\xe2\\x88\\x9222,80.0,0.006204822,0.15722739,68.84143200551662\\r\\n236,HB 2124-4228,113.0,0.08973127199999999,0.12434323,1591.756066376414\\r\\n237,2MASS J21392676+0220226,32.1,0.043911048,0.09865248,1237.4702484573381\\r\\n238,2MASS J21481628+4003593,26.3,0.05250234,0.10173537,1391.270898573028\\r\\n239,2MASSW J2206450-421721,93.0,0.021000936,0.13667479,308.3463412722992\\r\\n240,2MASSW J2208136+292121,154.0,0.025773876,0.14489583,336.7014134799189\\r\\n241,2MASSW J2224438-015852,38.0,0.058229868,0.10173537,1543.0459056900854\\r\\n242,2MASS J22282889-4310262,35.0,0.040092696000000004,0.09659722,1178.4549471797168\\r\\n243,2MASS J22373255+3922398,64.0,0.06968492400000001,0.10687352,1673.3068242582378\\r\\n244,2MASSW J2244316+204343,56.0,0.011455056000000002,0.13256427,178.78094402431125\\r\\n245,2MASS J23224684-3133231,56.0,0.022910112000000003,0.14284057,307.96477299400283\\r\\n246,2MASS J23225299-6151275,148.0,0.016227996,0.16339317,166.71476840857292\\r\\n247,2MASS J23515044-2537367,67.0,0.084003744,0.11920508,1621.3847891693522\\r\\n248,2MASSI J2356547-155310,74.0,0.07636704,0.11201167,1669.384557701969\\r\\n249,WISE 0410+1502,20.0,0.005727528000000001,0.12023271,108.66731278795253\\r\\n250,WISE 0458+6434A,35.9,0.01431882,0.4316046,21.082013105928027\\r\\n251,WISE 0458+6434B,35.9,0.00954588,0.3904994,17.169284911753024\\r\\n252,WISE 1405+5534,25.3,0.02863764,0.08837618,2.4471070969610065e-10\\r\\n\"}"
            ]
          },
          "metadata": {},
          "execution_count": 10
        }
      ],
      "source": [
        "import pandas as pd\n",
        "import matplotlib.pyplot as plt\n",
        "%matplotlib inline\n",
        "from google.colab import files\n",
        "files.upload()"
      ]
    },
    {
      "cell_type": "code",
      "execution_count": 11,
      "metadata": {
        "id": "x6DeumT0TUHY"
      },
      "outputs": [],
      "source": [
        "df = pd.read_csv(\"star_with_gravity.csv\")"
      ]
    },
    {
      "cell_type": "code",
      "execution_count": 12,
      "metadata": {
        "id": "DJ6bD9pRTUHY",
        "outputId": "be632d8b-5406-429f-d0f4-55e9afec1002",
        "colab": {
          "base_uri": "https://localhost:8080/",
          "height": 206
        }
      },
      "outputs": [
        {
          "output_type": "execute_result",
          "data": {
            "text/plain": [
              "   Unnamed: 0       Star_name    Distance  Mass  Radius     Gravity\n",
              "0           0             Sun    0.000016   1.0    1.00  274.269161\n",
              "1           1          Sirius    8.600000   2.1    1.71  196.971800\n",
              "2           2         Canopus  310.000000  15.0   71.00    0.816115\n",
              "3           3  Alpha Centauri    4.400000   1.1    1.20  209.511165\n",
              "4           4        Arcturus   37.000000   1.1   26.00    0.446296"
            ],
            "text/html": [
              "\n",
              "  <div id=\"df-0f326a78-6a3c-4fec-9b0e-46cc2b65c1cf\">\n",
              "    <div class=\"colab-df-container\">\n",
              "      <div>\n",
              "<style scoped>\n",
              "    .dataframe tbody tr th:only-of-type {\n",
              "        vertical-align: middle;\n",
              "    }\n",
              "\n",
              "    .dataframe tbody tr th {\n",
              "        vertical-align: top;\n",
              "    }\n",
              "\n",
              "    .dataframe thead th {\n",
              "        text-align: right;\n",
              "    }\n",
              "</style>\n",
              "<table border=\"1\" class=\"dataframe\">\n",
              "  <thead>\n",
              "    <tr style=\"text-align: right;\">\n",
              "      <th></th>\n",
              "      <th>Unnamed: 0</th>\n",
              "      <th>Star_name</th>\n",
              "      <th>Distance</th>\n",
              "      <th>Mass</th>\n",
              "      <th>Radius</th>\n",
              "      <th>Gravity</th>\n",
              "    </tr>\n",
              "  </thead>\n",
              "  <tbody>\n",
              "    <tr>\n",
              "      <th>0</th>\n",
              "      <td>0</td>\n",
              "      <td>Sun</td>\n",
              "      <td>0.000016</td>\n",
              "      <td>1.0</td>\n",
              "      <td>1.00</td>\n",
              "      <td>274.269161</td>\n",
              "    </tr>\n",
              "    <tr>\n",
              "      <th>1</th>\n",
              "      <td>1</td>\n",
              "      <td>Sirius</td>\n",
              "      <td>8.600000</td>\n",
              "      <td>2.1</td>\n",
              "      <td>1.71</td>\n",
              "      <td>196.971800</td>\n",
              "    </tr>\n",
              "    <tr>\n",
              "      <th>2</th>\n",
              "      <td>2</td>\n",
              "      <td>Canopus</td>\n",
              "      <td>310.000000</td>\n",
              "      <td>15.0</td>\n",
              "      <td>71.00</td>\n",
              "      <td>0.816115</td>\n",
              "    </tr>\n",
              "    <tr>\n",
              "      <th>3</th>\n",
              "      <td>3</td>\n",
              "      <td>Alpha Centauri</td>\n",
              "      <td>4.400000</td>\n",
              "      <td>1.1</td>\n",
              "      <td>1.20</td>\n",
              "      <td>209.511165</td>\n",
              "    </tr>\n",
              "    <tr>\n",
              "      <th>4</th>\n",
              "      <td>4</td>\n",
              "      <td>Arcturus</td>\n",
              "      <td>37.000000</td>\n",
              "      <td>1.1</td>\n",
              "      <td>26.00</td>\n",
              "      <td>0.446296</td>\n",
              "    </tr>\n",
              "  </tbody>\n",
              "</table>\n",
              "</div>\n",
              "      <button class=\"colab-df-convert\" onclick=\"convertToInteractive('df-0f326a78-6a3c-4fec-9b0e-46cc2b65c1cf')\"\n",
              "              title=\"Convert this dataframe to an interactive table.\"\n",
              "              style=\"display:none;\">\n",
              "        \n",
              "  <svg xmlns=\"http://www.w3.org/2000/svg\" height=\"24px\"viewBox=\"0 0 24 24\"\n",
              "       width=\"24px\">\n",
              "    <path d=\"M0 0h24v24H0V0z\" fill=\"none\"/>\n",
              "    <path d=\"M18.56 5.44l.94 2.06.94-2.06 2.06-.94-2.06-.94-.94-2.06-.94 2.06-2.06.94zm-11 1L8.5 8.5l.94-2.06 2.06-.94-2.06-.94L8.5 2.5l-.94 2.06-2.06.94zm10 10l.94 2.06.94-2.06 2.06-.94-2.06-.94-.94-2.06-.94 2.06-2.06.94z\"/><path d=\"M17.41 7.96l-1.37-1.37c-.4-.4-.92-.59-1.43-.59-.52 0-1.04.2-1.43.59L10.3 9.45l-7.72 7.72c-.78.78-.78 2.05 0 2.83L4 21.41c.39.39.9.59 1.41.59.51 0 1.02-.2 1.41-.59l7.78-7.78 2.81-2.81c.8-.78.8-2.07 0-2.86zM5.41 20L4 18.59l7.72-7.72 1.47 1.35L5.41 20z\"/>\n",
              "  </svg>\n",
              "      </button>\n",
              "      \n",
              "  <style>\n",
              "    .colab-df-container {\n",
              "      display:flex;\n",
              "      flex-wrap:wrap;\n",
              "      gap: 12px;\n",
              "    }\n",
              "\n",
              "    .colab-df-convert {\n",
              "      background-color: #E8F0FE;\n",
              "      border: none;\n",
              "      border-radius: 50%;\n",
              "      cursor: pointer;\n",
              "      display: none;\n",
              "      fill: #1967D2;\n",
              "      height: 32px;\n",
              "      padding: 0 0 0 0;\n",
              "      width: 32px;\n",
              "    }\n",
              "\n",
              "    .colab-df-convert:hover {\n",
              "      background-color: #E2EBFA;\n",
              "      box-shadow: 0px 1px 2px rgba(60, 64, 67, 0.3), 0px 1px 3px 1px rgba(60, 64, 67, 0.15);\n",
              "      fill: #174EA6;\n",
              "    }\n",
              "\n",
              "    [theme=dark] .colab-df-convert {\n",
              "      background-color: #3B4455;\n",
              "      fill: #D2E3FC;\n",
              "    }\n",
              "\n",
              "    [theme=dark] .colab-df-convert:hover {\n",
              "      background-color: #434B5C;\n",
              "      box-shadow: 0px 1px 3px 1px rgba(0, 0, 0, 0.15);\n",
              "      filter: drop-shadow(0px 1px 2px rgba(0, 0, 0, 0.3));\n",
              "      fill: #FFFFFF;\n",
              "    }\n",
              "  </style>\n",
              "\n",
              "      <script>\n",
              "        const buttonEl =\n",
              "          document.querySelector('#df-0f326a78-6a3c-4fec-9b0e-46cc2b65c1cf button.colab-df-convert');\n",
              "        buttonEl.style.display =\n",
              "          google.colab.kernel.accessAllowed ? 'block' : 'none';\n",
              "\n",
              "        async function convertToInteractive(key) {\n",
              "          const element = document.querySelector('#df-0f326a78-6a3c-4fec-9b0e-46cc2b65c1cf');\n",
              "          const dataTable =\n",
              "            await google.colab.kernel.invokeFunction('convertToInteractive',\n",
              "                                                     [key], {});\n",
              "          if (!dataTable) return;\n",
              "\n",
              "          const docLinkHtml = 'Like what you see? Visit the ' +\n",
              "            '<a target=\"_blank\" href=https://colab.research.google.com/notebooks/data_table.ipynb>data table notebook</a>'\n",
              "            + ' to learn more about interactive tables.';\n",
              "          element.innerHTML = '';\n",
              "          dataTable['output_type'] = 'display_data';\n",
              "          await google.colab.output.renderOutput(dataTable, element);\n",
              "          const docLink = document.createElement('div');\n",
              "          docLink.innerHTML = docLinkHtml;\n",
              "          element.appendChild(docLink);\n",
              "        }\n",
              "      </script>\n",
              "    </div>\n",
              "  </div>\n",
              "  "
            ]
          },
          "metadata": {},
          "execution_count": 12
        }
      ],
      "source": [
        "df.head()"
      ]
    },
    {
      "cell_type": "code",
      "execution_count": 13,
      "metadata": {
        "id": "EXgg3As8TUHZ",
        "outputId": "d70a9ba3-3365-4075-c10d-b57bae4d902e",
        "colab": {
          "base_uri": "https://localhost:8080/"
        }
      },
      "outputs": [
        {
          "output_type": "execute_result",
          "data": {
            "text/plain": [
              "Index(['Unnamed: 0', 'Star_name', 'Distance', 'Mass', 'Radius', 'Gravity'], dtype='object')"
            ]
          },
          "metadata": {},
          "execution_count": 13
        }
      ],
      "source": [
        "df.columns"
      ]
    },
    {
      "cell_type": "code",
      "execution_count": 15,
      "metadata": {
        "id": "Z_0xYxy5TUHa"
      },
      "outputs": [],
      "source": [
        "name = df[\"Star_name\"].to_list()\n",
        "mass = df[\"Mass\"].to_list()\n",
        "radius = df[\"Radius\"].to_list()\n",
        "dist = df[\"Distance\"].to_list()\n",
        "gravity = df[\"Gravity\"].to_list()"
      ]
    },
    {
      "cell_type": "code",
      "execution_count": 16,
      "metadata": {
        "id": "M2-pIL_VTUHa",
        "outputId": "cfb66c3a-ff26-4849-db1f-64a51c73503c",
        "colab": {
          "base_uri": "https://localhost:8080/",
          "height": 353
        }
      },
      "outputs": [
        {
          "output_type": "execute_result",
          "data": {
            "text/plain": [
              "<BarContainer object of 9 artists>"
            ]
          },
          "metadata": {},
          "execution_count": 16
        },
        {
          "output_type": "display_data",
          "data": {
            "text/plain": [
              "<Figure size 720x360 with 1 Axes>"
            ],
            "image/png": "[encoded data removed]"
          },
          "metadata": {
            "needs_background": "light"
          }
        }
      ],
      "source": [
        "plt.figure(figsize=(10,5))\n",
        "plt.title(\"Stars Solar Mass\")\n",
        "plt.bar(name[0:9],mass[0:9])"
      ]
    },
    {
      "cell_type": "code",
      "execution_count": 17,
      "metadata": {
        "id": "bVn_D8V7TUHb",
        "outputId": "bd21ade0-1139-464b-f9c1-bae10c406e82",
        "colab": {
          "base_uri": "https://localhost:8080/",
          "height": 353
        }
      },
      "outputs": [
        {
          "output_type": "execute_result",
          "data": {
            "text/plain": [
              "<BarContainer object of 9 artists>"
            ]
          },
          "metadata": {},
          "execution_count": 17
        },
        {
          "output_type": "display_data",
          "data": {
            "text/plain": [
              "<Figure size 720x360 with 1 Axes>"
            ],
            "image/png": "[encoded data removed]"
          },
          "metadata": {
            "needs_background": "light"
          }
        }
      ],
      "source": [
        "plt.figure(figsize=(10,5))\n",
        "plt.title(\"Stars Solar Radius\")\n",
        "plt.bar(name[0:9],radius[0:9])"
      ]
    },
    {
      "cell_type": "code",
      "execution_count": 18,
      "metadata": {
        "id": "88kPKqqvTUHb",
        "outputId": "ca33c9c9-37d7-45c9-c57c-e0c278530bb0",
        "colab": {
          "base_uri": "https://localhost:8080/",
          "height": 353
        }
      },
      "outputs": [
        {
          "output_type": "execute_result",
          "data": {
            "text/plain": [
              "<BarContainer object of 9 artists>"
            ]
          },
          "metadata": {},
          "execution_count": 18
        },
        {
          "output_type": "display_data",
          "data": {
            "text/plain": [
              "<Figure size 720x360 with 1 Axes>"
            ],
            "image/png": "[encoded data removed]"
          },
          "metadata": {
            "needs_background": "light"
          }
        }
      ],
      "source": [
        "plt.figure(figsize=(10,5))\n",
        "plt.title(\"Stars Gravity(m/s^2)\")\n",
        "plt.bar(name[0:9],gravity[0:9])"
      ]
    },
    {
      "cell_type": "code",
      "execution_count": 19,
      "metadata": {
        "id": "lavtdxTLTUHc",
        "outputId": "dca2e0c6-6296-46e4-ef74-e85fcba65386",
        "colab": {
          "base_uri": "https://localhost:8080/",
          "height": 353
        }
      },
      "outputs": [
        {
          "output_type": "execute_result",
          "data": {
            "text/plain": [
              "<BarContainer object of 9 artists>"
            ]
          },
          "metadata": {},
          "execution_count": 19
        },
        {
          "output_type": "display_data",
          "data": {
            "text/plain": [
              "<Figure size 720x360 with 1 Axes>"
            ],
            "image/png": "[encoded data removed]"
          },
          "metadata": {
            "needs_background": "light"
          }
        }
      ],
      "source": [
        "plt.figure(figsize=(10,5))\n",
        "plt.title(\"Stars Gravity(m/s^2)\")\n",
        "plt.bar(name[0:9],dist[0:9])"
      ]
    },
    {
      "cell_type": "code",
      "execution_count": null,
      "metadata": {
        "id": "rXr8VoPHTUHc"
      },
      "outputs": [],
      "source": [
        ""
      ]
    }
  ],
  "metadata": {
    "kernelspec": {
      "display_name": "Python 3",
      "language": "python",
      "name": "python3"
    },
    "language_info": {
      "codemirror_mode": {
        "name": "ipython",
        "version": 3
      },
      "file_extension": ".py",
      "mimetype": "text/x-python",
      "name": "python",
      "nbconvert_exporter": "python",
      "pygments_lexer": "ipython3",
      "version": "3.7.4"
    },
    "colab": {
      "name": "pro_135.ipynb",
      "provenance": [],
      "include_colab_link": true
    }
  },
  "nbformat": 4,
  "nbformat_minor": 0
}